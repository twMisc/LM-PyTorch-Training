{
 "cells": [
  {
   "cell_type": "code",
   "execution_count": null,
   "id": "f857bbc7-c545-4454-9400-b0f136b6b657",
   "metadata": {},
   "outputs": [],
   "source": [
    "# %%\n",
    "\n",
    "import torch\n",
    "from torch.func import jacrev, functional_call\n",
    "import numpy as np\n",
    "from pyDOE import lhs\n",
    "from lm_train.network import DNN\n",
    "from lm_train.training_module import training_LM"
   ]
  },
  {
   "cell_type": "code",
   "execution_count": null,
   "id": "768b3393-3868-40ae-b451-63f9019514ef",
   "metadata": {},
   "outputs": [],
   "source": [
    "# %%\n",
    "\n",
    "def model_u(data, params):\n",
    "    return functional_call(model, params, (data, )).squeeze()\n",
    "\n",
    "\n",
    "def exact(data):\n",
    "    \"\"\"The exact solution\"\"\"\n",
    "    x = data[..., 0]\n",
    "    y = data[..., 1]\n",
    "    return torch.sin(np.pi * x) * torch.sin(np.pi * y)\n",
    "\n",
    "\n",
    "def force(data):\n",
    "    \"\"\"The force function.\"\"\"\n",
    "    x = data[..., 0]\n",
    "    y = data[..., 1]\n",
    "    return -2 * np.pi**2 * torch.sin(np.pi * x) * torch.sin(np.pi * y)\n",
    "\n",
    "\n",
    "def generate2dRandomPoints(domainPoints, boundaryPoints, start=0., end=1.):\n",
    "    \"\"\"Generate 2d random points given start and end point.\"\"\"\n",
    "    data_d = torch.tensor(lhs(2, domainPoints))\n",
    "    data_b = torch.empty((4 * int(boundaryPoints / 4), 2))\n",
    "    n_edge = int(boundaryPoints / 4)\n",
    "    sample_b = torch.tensor(lhs(1, boundaryPoints)).flatten()\n",
    "    ones = torch.ones(n_edge)\n",
    "    data_b[0:n_edge] = torch.column_stack((sample_b[0:n_edge], 0 * ones))\n",
    "    data_b[n_edge:2 * n_edge] = torch.column_stack(\n",
    "        (0 * ones, sample_b[n_edge:2 * n_edge]))\n",
    "    data_b[2 * n_edge:3 * n_edge] = torch.column_stack(\n",
    "        (ones, sample_b[2 * n_edge:3 * n_edge]))\n",
    "    data_b[3 * n_edge:4 * n_edge] = torch.column_stack(\n",
    "        (sample_b[3 * n_edge:], ones))\n",
    "\n",
    "    # rescale the data\n",
    "    data_d = (end - start) * data_d + start\n",
    "    data_b = (end - start) * data_b + start\n",
    "    return data_d, data_b"
   ]
  },
  {
   "cell_type": "markdown",
   "id": "864d0e65-887b-42a4-99da-1dccffd4f91a",
   "metadata": {},
   "source": [
    "# %% [markdown]\n",
    "\n",
    " $$\\Delta u = f \\text{ in } D$$\n",
    " $$ u = g \\text{ on } \\partial D$$"
   ]
  },
  {
   "cell_type": "code",
   "execution_count": null,
   "id": "a9081a09-bc3c-431e-9ef1-b62a6173e445",
   "metadata": {},
   "outputs": [],
   "source": [
    "# %%\n",
    "\n",
    "def loss_residual(params, *args, **kwargs):\n",
    "    \"laplace u = f\"\n",
    "    data, force_value, = args\n",
    "    grad_f = (jacrev(jacrev(model_u)))(data, params).squeeze()\n",
    "    laplacian = torch.sum(torch.diagonal(grad_f))\n",
    "    assert laplacian.shape == force_value.shape, 'The shape of laplacian and force_value should match'\n",
    "    loss_d = laplacian - force_value\n",
    "    return loss_d\n",
    "\n",
    "\n",
    "def loss_target(params, *args, **kwargs):\n",
    "    \"General target loss\"\n",
    "    data, target, = args\n",
    "    output = model_u(data, params)\n",
    "    assert output.shape == target.shape, 'The shape of output and target should match'\n",
    "    loss_b = output - target\n",
    "    return loss_b"
   ]
  },
  {
   "cell_type": "code",
   "execution_count": null,
   "id": "cff34566-d49c-4be2-b7c0-f458b2dd74be",
   "metadata": {},
   "outputs": [],
   "source": [
    "# %%\n",
    "\n",
    "torch.set_default_dtype(torch.float64)\n",
    "device = torch.device('cuda' if torch.cuda.is_available() else 'cpu')\n",
    "layers = [2, 100, 1]\n",
    "n_points_d = 1000\n",
    "n_points_b = 100\n",
    "n_epoch = 1000\n",
    "model = DNN(layers).to(device)\n",
    "params = dict(model.named_parameters())\n",
    "data_d, data_b = generate2dRandomPoints(n_points_d, n_points_b)\n",
    "data_d = data_d.to(device)\n",
    "data_b = data_b.to(device)\n",
    "force_value = force(data_d).to(device)\n",
    "target = exact(data_b).to(device)"
   ]
  },
  {
   "cell_type": "code",
   "execution_count": null,
   "id": "312d3b45-3ac0-477d-a439-123755f0ab4e",
   "metadata": {},
   "outputs": [],
   "source": [
    "# %%\n",
    "\n",
    "losses = [loss_residual, loss_target]\n",
    "inputs = [[\n",
    "    data_d,\n",
    "    force_value,\n",
    "], [\n",
    "    data_b,\n",
    "    target,\n",
    "]]\n",
    "kwargs = [{} for _ in range(len(losses))]\n",
    "args = tuple(zip(losses, inputs, kwargs))"
   ]
  },
  {
   "cell_type": "code",
   "execution_count": null,
   "id": "cdf14981-7d61-4ddc-8f26-8e905f88af7b",
   "metadata": {},
   "outputs": [
    {
     "name": "stdout",
     "output_type": "stream",
     "text": [
      "Step: 100. loss: 4.8112e-04. mu: 3.6024e-13.\n",
      "Step: 200. loss: 1.7479e-11. mu: 5.6936e-15.\n",
      "Step: 300. loss: 1.1541e-12. mu: 3.2396e-15.\n",
      "Step: 400. loss: 4.9759e-13. mu: 1.8433e-15.\n",
      "Step: 500. loss: 3.8910e-13. mu: 6.2928e-15.\n",
      "Step: 600. loss: 1.2358e-13. mu: 3.5805e-15.\n",
      "Step: 700. loss: 9.0057e-14. mu: 2.0373e-15.\n",
      "Step: 800. loss: 5.8094e-14. mu: 6.9550e-15.\n",
      "Step: 900. loss: 4.0326e-14. mu: 3.9573e-15.\n",
      "Step: 1000. loss: 1.3307e-14. mu: 2.2516e-15.\n",
      "training time: 6.309163331985474 (s).\n"
     ]
    }
   ],
   "source": [
    "# %%\n",
    "\n",
    "params, lossval_all, loss_running, lossval_test = training_LM(params,\n",
    "                                                              device,\n",
    "                                                              args,\n",
    "                                                              steps=n_epoch)"
   ]
  },
  {
   "cell_type": "code",
   "execution_count": null,
   "id": "2701bd2b-a475-4f3b-81cc-d0f7980ac4ce",
   "metadata": {},
   "outputs": [
    {
     "name": "stdout",
     "output_type": "stream",
     "text": [
      "The L_inf error is: 1.4253e-07\n"
     ]
    }
   ],
   "source": [
    "# %%\n",
    "\n",
    "# calculate the L_inf error\n",
    "data_d_test, data_b_test = generate2dRandomPoints(int(1e6), int(1e4))\n",
    "data_test = torch.row_stack((data_d_test, data_b_test)).to(device)\n",
    "output = model_u(data_test, params)\n",
    "target = exact(data_test)\n",
    "error = torch.linalg.norm(output - target, float('inf'))\n",
    "print(f'The L_inf error is: {error:.4e}')"
   ]
  }
 ],
 "metadata": {
  "language_info": {
   "codemirror_mode": {
    "name": "ipython",
    "version": 3
   },
   "file_extension": ".py",
   "mimetype": "text/x-python",
   "name": "python",
   "nbconvert_exporter": "python",
   "pygments_lexer": "ipython3",
   "version": 3
  }
 },
 "nbformat": 4,
 "nbformat_minor": 2
}
