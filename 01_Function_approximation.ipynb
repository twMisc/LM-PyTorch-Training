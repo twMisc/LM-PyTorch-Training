{
 "cells": [
  {
   "cell_type": "code",
   "execution_count": null,
   "id": "419b35d4-c4d2-4e7b-a923-dbdd0b298e81",
   "metadata": {},
   "outputs": [],
   "source": [
    "# %%\n",
    "\n",
    "import torch\n",
    "import torch.nn as nn\n",
    "from torch.func import jacrev, functional_call, vmap\n",
    "import numpy as np\n",
    "from pyDOE import lhs\n",
    "from lm_train.network import DNN\n",
    "from lm_train.training_module import training_LM\n",
    "import matplotlib.pyplot as plt"
   ]
  },
  {
   "cell_type": "code",
   "execution_count": null,
   "id": "f38cd918-4522-4a1b-a066-9b6f8c9d78d0",
   "metadata": {},
   "outputs": [],
   "source": [
    "# %%\n",
    "\n",
    "class Net(nn.Module):\n",
    "\n",
    "    def __init__(self, input_size, hidden_size, output_size):\n",
    "        super(Net, self).__init__()\n",
    "        self.fc1 = nn.Linear(input_size, hidden_size)\n",
    "        self.act = nn.Sigmoid()\n",
    "        self.fc2 = nn.Linear(hidden_size, output_size, bias=False)\n",
    "\n",
    "    def forward(self, x):\n",
    "        out = self.fc1(x)\n",
    "        out = self.act(out)\n",
    "        out = self.fc2(out)\n",
    "        return out\n",
    "\n",
    "\n",
    "def model_u(data, params):\n",
    "    return functional_call(model, params, (data, ))\n",
    "\n",
    "\n",
    "def loss_target(params, *args, **kwargs):\n",
    "    \"General target loss\"\n",
    "    data, target, = args\n",
    "    output = model_u(data, params)\n",
    "    assert output.shape == target.shape, 'The shape of output and target should match'\n",
    "    loss_b = output - target\n",
    "    return loss_b\n",
    "\n",
    "\n",
    "def exact(x):\n",
    "    return torch.sin(2 * np.pi * x)"
   ]
  },
  {
   "cell_type": "code",
   "execution_count": null,
   "id": "d28dfef8-1e0f-46e9-abab-2335e86351b3",
   "metadata": {},
   "outputs": [],
   "source": [
    "# %%\n",
    "\n",
    "torch.set_default_dtype(torch.float64)\n",
    "device = torch.device('cuda' if torch.cuda.is_available() else 'cpu')\n",
    "n_points = 500\n",
    "n_epoch = 1000"
   ]
  },
  {
   "cell_type": "code",
   "execution_count": null,
   "id": "9d674ce5-ce45-415e-9994-1422a5ca876f",
   "metadata": {},
   "outputs": [],
   "source": [
    "# %%\n",
    "\n",
    "x = lhs(1, n_points)\n",
    "x[0] = 0\n",
    "x[-1] = 1\n",
    "x = torch.tensor(x, dtype=torch.float64).to(device)\n",
    "y = exact(x).to(device)\n",
    "model = Net(1, 100, 1).to(device)\n",
    "params = dict(model.named_parameters())\n",
    "losses = [loss_target]\n",
    "inputs = [[x, y]]\n",
    "kwargs = [{} for _ in range(len(losses))]\n",
    "args = tuple(zip(losses, inputs, kwargs))"
   ]
  },
  {
   "cell_type": "code",
   "execution_count": null,
   "id": "fdaf976e-40b8-48c1-8970-10375ade735b",
   "metadata": {},
   "outputs": [
    {
     "name": "stdout",
     "output_type": "stream",
     "text": [
      "Step: 100. loss: 2.0473e-07. mu: 1.6678e-15.\n",
      "Step: 200. loss: 8.2370e-11. mu: 5.6936e-15.\n",
      "Step: 300. loss: 1.5429e-11. mu: 3.2396e-15.\n",
      "Step: 400. loss: 9.1208e-13. mu: 1.8433e-15.\n",
      "Step: 500. loss: 6.3698e-15. mu: 6.2928e-15.\n",
      "Step: 600. loss: 3.6242e-16. mu: 3.5805e-15.\n",
      "Step: 700. loss: 1.4452e-16. mu: 1.2224e-14.\n",
      "Step: 800. loss: 7.3198e-17. mu: 6.9550e-15.\n",
      "Step: 900. loss: 4.3752e-17. mu: 3.9573e-15.\n",
      "Step: 1000. loss: 3.0130e-17. mu: 2.2516e-15.\n",
      "training time: 3.1312501430511475 (s).\n"
     ]
    }
   ],
   "source": [
    "# %%\n",
    "\n",
    "params, lossval_all, loss_running, lossval_test = training_LM(\n",
    "    params,\n",
    "    device,\n",
    "    args,\n",
    "    steps=n_epoch,\n",
    ")"
   ]
  },
  {
   "cell_type": "code",
   "execution_count": null,
   "id": "3747b3ab-e8f7-45fe-8a17-eaa61588dc13",
   "metadata": {},
   "outputs": [
    {
     "name": "stdout",
     "output_type": "stream",
     "text": [
      "The L_inf error is: 3.0643e-08\n"
     ]
    }
   ],
   "source": [
    "# %%\n",
    "\n",
    "# calculate the L_inf error\n",
    "data_test = torch.linspace(0, 1, 10000).reshape(-1, 1).to(device)\n",
    "output = model_u(data_test, params)\n",
    "target = exact(data_test)\n",
    "error = torch.linalg.norm(output - target, float('inf'))\n",
    "print(f'The L_inf error is: {error:.4e}')"
   ]
  }
 ],
 "metadata": {
  "language_info": {
   "codemirror_mode": {
    "name": "ipython",
    "version": 3
   },
   "file_extension": ".py",
   "mimetype": "text/x-python",
   "name": "python",
   "nbconvert_exporter": "python",
   "pygments_lexer": "ipython3",
   "version": 3
  }
 },
 "nbformat": 4,
 "nbformat_minor": 2
}
